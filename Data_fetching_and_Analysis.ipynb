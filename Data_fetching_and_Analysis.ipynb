{
 "cells": [
  {
   "cell_type": "markdown",
   "metadata": {},
   "source": [
    "## It takes too long for machine learning models to diffuse to diseases of the poor \n",
    "\n",
    "The main question we seek to answer is:\n",
    "- How well has machine learning been adopted by Biologists?\n",
    "- Compared with cancer research, how well has machine learning been adopted?\n",
    "\n",
    "This notebook supports the [medium article](https://medium.com/@siwomolbio/machinelearning4malaria-e171ca85e7f5)\n",
    "\n",
    "pubmed data downloaded on 3rd May, 2019. "
   ]
  },
  {
   "cell_type": "code",
   "execution_count": 1,
   "metadata": {},
   "outputs": [],
   "source": [
    "from Bio import Entrez\n",
    "import pandas as pd\n",
    "\n",
    "import seaborn as sns\n",
    "sns.set(style=\"whitegrid\")\n",
    "import matplotlib.pyplot as plt\n",
    "\n",
    "import matplotlib\n",
    "matplotlib.use(\"Agg\")\n",
    "import matplotlib.pyplot as plt\n",
    "import pandas as pd\n",
    "%matplotlib inline"
   ]
  },
  {
   "cell_type": "code",
   "execution_count": 2,
   "metadata": {},
   "outputs": [],
   "source": [
    "Entrez.email = \"calebkibet88@gmail.com\""
   ]
  },
  {
   "cell_type": "code",
   "execution_count": 3,
   "metadata": {},
   "outputs": [],
   "source": [
    "other_tech = ['\"DNA sequencing\"', '\"PCR\"',\n",
    "              '\"ELISA\"','\"microarray\"',\n",
    "              '\"Sanger sequencing\"','\"Nanopore sequencing\"',\n",
    "              '\"GWAS\"']"
   ]
  },
  {
   "cell_type": "code",
   "execution_count": null,
   "metadata": {},
   "outputs": [],
   "source": [
    "ml = ['\"machine learning\"','\"neural networks\"',\n",
    "     '\"support vector machine\"',\n",
    "     '\"k-nearest neighbor\"',\n",
    "     '\"linear regression\"',\n",
    "     '\"random forests\"',\n",
    "     '\"logistic regression\"',\n",
    "     '\"convolutional neural networks\"','\"bayesian networks\"', '\"data science\"']"
   ]
  },
  {
   "cell_type": "markdown",
   "metadata": {},
   "source": [
    "## Download data Details from PubMed\n",
    "\n",
    "Using the code below, we get to fetch the data we are interested which talks about malaria and the various machine learning models. "
   ]
  },
  {
   "cell_type": "code",
   "execution_count": 6,
   "metadata": {},
   "outputs": [],
   "source": [
    "# make a placeholder to store result from querying \n",
    "def get_count(disease,ml):\n",
    "    df = pd.DataFrame(columns=[\"ML_algorithm\", \"Count\", 'First_Paper','Latest_paper'])\n",
    "    for machine in ml:\n",
    "        handle = Entrez.esearch(db = \"pubmed\", retmax=10000000, term=\"[%s] AND %s\" % (machine,disease))\n",
    "        kenyan_records = Entrez.read(handle)\n",
    "        kenyan_pubids = kenyan_records[\"IdList\"]\n",
    "        \n",
    "        handle_1 = Entrez.esummary(db=\"pubmed\", id = kenyan_pubids[0])\n",
    "        handle_2 = Entrez.esummary(db=\"pubmed\", id = kenyan_pubids[-1])\n",
    "        \n",
    "        record_1 = Entrez.read(handle_1)\n",
    "        record_2 = Entrez.read(handle_2)\n",
    "        # see what we are capable of subsetting\n",
    "        \n",
    "        df.loc[len(df)]= [machine.replace('\"',''), len(kenyan_pubids), record_2[0][\"PubDate\"],record_1[0][\"PubDate\"]]\n",
    "        \n",
    "    #df.to_csv()\n",
    "    return df\n",
    "        "
   ]
  },
  {
   "cell_type": "code",
   "execution_count": 7,
   "metadata": {},
   "outputs": [
    {
     "data": {
      "text/html": [
       "<div>\n",
       "<style scoped>\n",
       "    .dataframe tbody tr th:only-of-type {\n",
       "        vertical-align: middle;\n",
       "    }\n",
       "\n",
       "    .dataframe tbody tr th {\n",
       "        vertical-align: top;\n",
       "    }\n",
       "\n",
       "    .dataframe thead th {\n",
       "        text-align: right;\n",
       "    }\n",
       "</style>\n",
       "<table border=\"1\" class=\"dataframe\">\n",
       "  <thead>\n",
       "    <tr style=\"text-align: right;\">\n",
       "      <th></th>\n",
       "      <th>ML_algorithm</th>\n",
       "      <th>Count</th>\n",
       "      <th>First_Paper</th>\n",
       "      <th>Latest_paper</th>\n",
       "    </tr>\n",
       "  </thead>\n",
       "  <tbody>\n",
       "    <tr>\n",
       "      <th>0</th>\n",
       "      <td>machine learning</td>\n",
       "      <td>6784</td>\n",
       "      <td>1990 Oct</td>\n",
       "      <td>2021 Mar 17</td>\n",
       "    </tr>\n",
       "    <tr>\n",
       "      <th>1</th>\n",
       "      <td>neural networks</td>\n",
       "      <td>4081</td>\n",
       "      <td>1989 May</td>\n",
       "      <td>2021 Mar 19</td>\n",
       "    </tr>\n",
       "    <tr>\n",
       "      <th>2</th>\n",
       "      <td>support vector machine</td>\n",
       "      <td>2745</td>\n",
       "      <td>2000 Oct</td>\n",
       "      <td>2021 Mar 18</td>\n",
       "    </tr>\n",
       "    <tr>\n",
       "      <th>3</th>\n",
       "      <td>k-nearest neighbor</td>\n",
       "      <td>382</td>\n",
       "      <td>1992 Jun</td>\n",
       "      <td>2021 Feb 23</td>\n",
       "    </tr>\n",
       "    <tr>\n",
       "      <th>4</th>\n",
       "      <td>linear regression</td>\n",
       "      <td>9886</td>\n",
       "      <td>1975 Jun</td>\n",
       "      <td>2021 Mar 19</td>\n",
       "    </tr>\n",
       "    <tr>\n",
       "      <th>5</th>\n",
       "      <td>random forests</td>\n",
       "      <td>315</td>\n",
       "      <td>2003 Apr 1</td>\n",
       "      <td>2021 Mar 16</td>\n",
       "    </tr>\n",
       "    <tr>\n",
       "      <th>6</th>\n",
       "      <td>logistic regression</td>\n",
       "      <td>51725</td>\n",
       "      <td>1976</td>\n",
       "      <td>2021 Mar 11</td>\n",
       "    </tr>\n",
       "    <tr>\n",
       "      <th>7</th>\n",
       "      <td>convolutional neural networks</td>\n",
       "      <td>811</td>\n",
       "      <td>2013</td>\n",
       "      <td>2021 Mar 19</td>\n",
       "    </tr>\n",
       "    <tr>\n",
       "      <th>8</th>\n",
       "      <td>bayesian networks</td>\n",
       "      <td>156</td>\n",
       "      <td>1995</td>\n",
       "      <td>2021 Feb 26</td>\n",
       "    </tr>\n",
       "    <tr>\n",
       "      <th>9</th>\n",
       "      <td>data science</td>\n",
       "      <td>2230</td>\n",
       "      <td>2007 Oct</td>\n",
       "      <td>2021 Mar 17</td>\n",
       "    </tr>\n",
       "  </tbody>\n",
       "</table>\n",
       "</div>"
      ],
      "text/plain": [
       "                    ML_algorithm  Count First_Paper Latest_paper\n",
       "0               machine learning   6784    1990 Oct  2021 Mar 17\n",
       "1                neural networks   4081    1989 May  2021 Mar 19\n",
       "2         support vector machine   2745    2000 Oct  2021 Mar 18\n",
       "3             k-nearest neighbor    382    1992 Jun  2021 Feb 23\n",
       "4              linear regression   9886    1975 Jun  2021 Mar 19\n",
       "5                 random forests    315  2003 Apr 1  2021 Mar 16\n",
       "6            logistic regression  51725        1976  2021 Mar 11\n",
       "7  convolutional neural networks    811        2013  2021 Mar 19\n",
       "8              bayesian networks    156        1995  2021 Feb 26\n",
       "9                   data science   2230    2007 Oct  2021 Mar 17"
      ]
     },
     "execution_count": 7,
     "metadata": {},
     "output_type": "execute_result"
    }
   ],
   "source": [
    "cancer_df = get_count(\"cancer\",ml)\n",
    "cancer_df"
   ]
  },
  {
   "cell_type": "code",
   "execution_count": 8,
   "metadata": {},
   "outputs": [
    {
     "data": {
      "text/html": [
       "<div>\n",
       "<style scoped>\n",
       "    .dataframe tbody tr th:only-of-type {\n",
       "        vertical-align: middle;\n",
       "    }\n",
       "\n",
       "    .dataframe tbody tr th {\n",
       "        vertical-align: top;\n",
       "    }\n",
       "\n",
       "    .dataframe thead th {\n",
       "        text-align: right;\n",
       "    }\n",
       "</style>\n",
       "<table border=\"1\" class=\"dataframe\">\n",
       "  <thead>\n",
       "    <tr style=\"text-align: right;\">\n",
       "      <th></th>\n",
       "      <th>ML_algorithm</th>\n",
       "      <th>Count</th>\n",
       "      <th>First_Paper</th>\n",
       "      <th>Latest_paper</th>\n",
       "    </tr>\n",
       "  </thead>\n",
       "  <tbody>\n",
       "    <tr>\n",
       "      <th>0</th>\n",
       "      <td>machine learning</td>\n",
       "      <td>136</td>\n",
       "      <td>2008 Apr 16</td>\n",
       "      <td>2021 Mar 16</td>\n",
       "    </tr>\n",
       "    <tr>\n",
       "      <th>1</th>\n",
       "      <td>neural networks</td>\n",
       "      <td>48</td>\n",
       "      <td>2001</td>\n",
       "      <td>2020 Dec</td>\n",
       "    </tr>\n",
       "    <tr>\n",
       "      <th>2</th>\n",
       "      <td>support vector machine</td>\n",
       "      <td>25</td>\n",
       "      <td>2008 Feb 15</td>\n",
       "      <td>2021 Feb</td>\n",
       "    </tr>\n",
       "    <tr>\n",
       "      <th>3</th>\n",
       "      <td>k-nearest neighbor</td>\n",
       "      <td>7</td>\n",
       "      <td>2010 Mar</td>\n",
       "      <td>2019 Jul</td>\n",
       "    </tr>\n",
       "    <tr>\n",
       "      <th>4</th>\n",
       "      <td>linear regression</td>\n",
       "      <td>266</td>\n",
       "      <td>1983 Dec</td>\n",
       "      <td>2021 Mar</td>\n",
       "    </tr>\n",
       "    <tr>\n",
       "      <th>5</th>\n",
       "      <td>random forests</td>\n",
       "      <td>7</td>\n",
       "      <td>2013 Feb 11</td>\n",
       "      <td>2021 Feb</td>\n",
       "    </tr>\n",
       "    <tr>\n",
       "      <th>6</th>\n",
       "      <td>logistic regression</td>\n",
       "      <td>1283</td>\n",
       "      <td>1987 Oct</td>\n",
       "      <td>2021 Mar 18</td>\n",
       "    </tr>\n",
       "    <tr>\n",
       "      <th>7</th>\n",
       "      <td>convolutional neural networks</td>\n",
       "      <td>8</td>\n",
       "      <td>2018</td>\n",
       "      <td>2020 Dec</td>\n",
       "    </tr>\n",
       "    <tr>\n",
       "      <th>8</th>\n",
       "      <td>bayesian networks</td>\n",
       "      <td>3</td>\n",
       "      <td>2015 Aug 28</td>\n",
       "      <td>2018 Jan</td>\n",
       "    </tr>\n",
       "    <tr>\n",
       "      <th>9</th>\n",
       "      <td>data science</td>\n",
       "      <td>28</td>\n",
       "      <td>2017 Dec</td>\n",
       "      <td>2021 Feb</td>\n",
       "    </tr>\n",
       "  </tbody>\n",
       "</table>\n",
       "</div>"
      ],
      "text/plain": [
       "                    ML_algorithm Count  First_Paper Latest_paper\n",
       "0               machine learning   136  2008 Apr 16  2021 Mar 16\n",
       "1                neural networks    48         2001     2020 Dec\n",
       "2         support vector machine    25  2008 Feb 15     2021 Feb\n",
       "3             k-nearest neighbor     7     2010 Mar     2019 Jul\n",
       "4              linear regression   266     1983 Dec     2021 Mar\n",
       "5                 random forests     7  2013 Feb 11     2021 Feb\n",
       "6            logistic regression  1283     1987 Oct  2021 Mar 18\n",
       "7  convolutional neural networks     8         2018     2020 Dec\n",
       "8              bayesian networks     3  2015 Aug 28     2018 Jan\n",
       "9                   data science    28     2017 Dec     2021 Feb"
      ]
     },
     "execution_count": 8,
     "metadata": {},
     "output_type": "execute_result"
    }
   ],
   "source": [
    "malaria_df = get_count(\"malaria\",ml)\n",
    "malaria_df"
   ]
  },
  {
   "cell_type": "code",
   "execution_count": 9,
   "metadata": {},
   "outputs": [
    {
     "data": {
      "text/html": [
       "<div>\n",
       "<style scoped>\n",
       "    .dataframe tbody tr th:only-of-type {\n",
       "        vertical-align: middle;\n",
       "    }\n",
       "\n",
       "    .dataframe tbody tr th {\n",
       "        vertical-align: top;\n",
       "    }\n",
       "\n",
       "    .dataframe thead th {\n",
       "        text-align: right;\n",
       "    }\n",
       "</style>\n",
       "<table border=\"1\" class=\"dataframe\">\n",
       "  <thead>\n",
       "    <tr style=\"text-align: right;\">\n",
       "      <th></th>\n",
       "      <th>ML_algorithm</th>\n",
       "      <th>Count</th>\n",
       "      <th>First_Paper</th>\n",
       "      <th>Latest_paper</th>\n",
       "    </tr>\n",
       "  </thead>\n",
       "  <tbody>\n",
       "    <tr>\n",
       "      <th>0</th>\n",
       "      <td>DNA sequencing</td>\n",
       "      <td>6206</td>\n",
       "      <td>1978 Jun 27</td>\n",
       "      <td>2021 Mar 20</td>\n",
       "    </tr>\n",
       "    <tr>\n",
       "      <th>1</th>\n",
       "      <td>PCR</td>\n",
       "      <td>122366</td>\n",
       "      <td>1978 Mar</td>\n",
       "      <td>2021 Mar 20</td>\n",
       "    </tr>\n",
       "    <tr>\n",
       "      <th>2</th>\n",
       "      <td>ELISA</td>\n",
       "      <td>23705</td>\n",
       "      <td>1978</td>\n",
       "      <td>2021 Mar 17</td>\n",
       "    </tr>\n",
       "    <tr>\n",
       "      <th>3</th>\n",
       "      <td>microarray</td>\n",
       "      <td>36986</td>\n",
       "      <td>1953 Jan</td>\n",
       "      <td>2021 Mar 20</td>\n",
       "    </tr>\n",
       "    <tr>\n",
       "      <th>4</th>\n",
       "      <td>Sanger sequencing</td>\n",
       "      <td>2708</td>\n",
       "      <td>1995 Feb</td>\n",
       "      <td>2021</td>\n",
       "    </tr>\n",
       "    <tr>\n",
       "      <th>5</th>\n",
       "      <td>Nanopore sequencing</td>\n",
       "      <td>78</td>\n",
       "      <td>2013 Jan</td>\n",
       "      <td>2021 Feb 23</td>\n",
       "    </tr>\n",
       "    <tr>\n",
       "      <th>6</th>\n",
       "      <td>GWAS</td>\n",
       "      <td>2830</td>\n",
       "      <td>1997 Feb</td>\n",
       "      <td>2021 Mar 20</td>\n",
       "    </tr>\n",
       "  </tbody>\n",
       "</table>\n",
       "</div>"
      ],
      "text/plain": [
       "          ML_algorithm   Count  First_Paper Latest_paper\n",
       "0       DNA sequencing    6206  1978 Jun 27  2021 Mar 20\n",
       "1                  PCR  122366     1978 Mar  2021 Mar 20\n",
       "2                ELISA   23705         1978  2021 Mar 17\n",
       "3           microarray   36986     1953 Jan  2021 Mar 20\n",
       "4    Sanger sequencing    2708     1995 Feb         2021\n",
       "5  Nanopore sequencing      78     2013 Jan  2021 Feb 23\n",
       "6                 GWAS    2830     1997 Feb  2021 Mar 20"
      ]
     },
     "execution_count": 9,
     "metadata": {},
     "output_type": "execute_result"
    }
   ],
   "source": [
    "other_tech_cancer = get_count(\"cancer\",other_tech)\n",
    "other_tech_cancer"
   ]
  },
  {
   "cell_type": "code",
   "execution_count": 46,
   "metadata": {},
   "outputs": [
    {
     "data": {
      "text/html": [
       "<div>\n",
       "<style scoped>\n",
       "    .dataframe tbody tr th:only-of-type {\n",
       "        vertical-align: middle;\n",
       "    }\n",
       "\n",
       "    .dataframe tbody tr th {\n",
       "        vertical-align: top;\n",
       "    }\n",
       "\n",
       "    .dataframe thead th {\n",
       "        text-align: right;\n",
       "    }\n",
       "</style>\n",
       "<table border=\"1\" class=\"dataframe\">\n",
       "  <thead>\n",
       "    <tr style=\"text-align: right;\">\n",
       "      <th></th>\n",
       "      <th>ML_algorithm</th>\n",
       "      <th>Count</th>\n",
       "      <th>First_Paper</th>\n",
       "      <th>Latest_paper</th>\n",
       "    </tr>\n",
       "  </thead>\n",
       "  <tbody>\n",
       "    <tr>\n",
       "      <th>0</th>\n",
       "      <td>DNA sequencing</td>\n",
       "      <td>221</td>\n",
       "      <td>1988 Feb</td>\n",
       "      <td>2021 Mar 17</td>\n",
       "    </tr>\n",
       "    <tr>\n",
       "      <th>1</th>\n",
       "      <td>PCR</td>\n",
       "      <td>4983</td>\n",
       "      <td>1983 Dec</td>\n",
       "      <td>2021 Mar</td>\n",
       "    </tr>\n",
       "    <tr>\n",
       "      <th>2</th>\n",
       "      <td>ELISA</td>\n",
       "      <td>1929</td>\n",
       "      <td>1976</td>\n",
       "      <td>2021 Mar 19</td>\n",
       "    </tr>\n",
       "    <tr>\n",
       "      <th>3</th>\n",
       "      <td>microarray</td>\n",
       "      <td>387</td>\n",
       "      <td>2000 Jan</td>\n",
       "      <td>2020</td>\n",
       "    </tr>\n",
       "    <tr>\n",
       "      <th>4</th>\n",
       "      <td>Sanger sequencing</td>\n",
       "      <td>49</td>\n",
       "      <td>2012 May</td>\n",
       "      <td>2021 Mar 11</td>\n",
       "    </tr>\n",
       "    <tr>\n",
       "      <th>5</th>\n",
       "      <td>Nanopore sequencing</td>\n",
       "      <td>5</td>\n",
       "      <td>2018 May 29</td>\n",
       "      <td>2021 Mar 15</td>\n",
       "    </tr>\n",
       "    <tr>\n",
       "      <th>6</th>\n",
       "      <td>GWAS</td>\n",
       "      <td>41</td>\n",
       "      <td>2008 Jul 1</td>\n",
       "      <td>2020 Nov 23</td>\n",
       "    </tr>\n",
       "  </tbody>\n",
       "</table>\n",
       "</div>"
      ],
      "text/plain": [
       "          ML_algorithm Count  First_Paper Latest_paper\n",
       "0       DNA sequencing   221     1988 Feb  2021 Mar 17\n",
       "1                  PCR  4983     1983 Dec     2021 Mar\n",
       "2                ELISA  1929         1976  2021 Mar 19\n",
       "3           microarray   387     2000 Jan         2020\n",
       "4    Sanger sequencing    49     2012 May  2021 Mar 11\n",
       "5  Nanopore sequencing     5  2018 May 29  2021 Mar 15\n",
       "6                 GWAS    41   2008 Jul 1  2020 Nov 23"
      ]
     },
     "execution_count": 46,
     "metadata": {},
     "output_type": "execute_result"
    }
   ],
   "source": [
    "other_tech_malaria = get_count(\"malaria\",other_tech)\n",
    "other_tech_malaria"
   ]
  },
  {
   "cell_type": "code",
   "execution_count": 10,
   "metadata": {},
   "outputs": [
    {
     "data": {
      "text/html": [
       "<div>\n",
       "<style scoped>\n",
       "    .dataframe tbody tr th:only-of-type {\n",
       "        vertical-align: middle;\n",
       "    }\n",
       "\n",
       "    .dataframe tbody tr th {\n",
       "        vertical-align: top;\n",
       "    }\n",
       "\n",
       "    .dataframe thead th {\n",
       "        text-align: right;\n",
       "    }\n",
       "</style>\n",
       "<table border=\"1\" class=\"dataframe\">\n",
       "  <thead>\n",
       "    <tr style=\"text-align: right;\">\n",
       "      <th></th>\n",
       "      <th>ML_algorithm</th>\n",
       "      <th>Count</th>\n",
       "      <th>First_Paper</th>\n",
       "      <th>Latest_paper</th>\n",
       "    </tr>\n",
       "  </thead>\n",
       "  <tbody>\n",
       "    <tr>\n",
       "      <th>0</th>\n",
       "      <td>machine learning</td>\n",
       "      <td>206</td>\n",
       "      <td>2002 Feb</td>\n",
       "      <td>2021</td>\n",
       "    </tr>\n",
       "    <tr>\n",
       "      <th>1</th>\n",
       "      <td>neural networks</td>\n",
       "      <td>107</td>\n",
       "      <td>1994 Mar</td>\n",
       "      <td>2020</td>\n",
       "    </tr>\n",
       "    <tr>\n",
       "      <th>2</th>\n",
       "      <td>support vector machine</td>\n",
       "      <td>68</td>\n",
       "      <td>2006 Jan-Feb</td>\n",
       "      <td>2020 Nov 30</td>\n",
       "    </tr>\n",
       "    <tr>\n",
       "      <th>3</th>\n",
       "      <td>k-nearest neighbor</td>\n",
       "      <td>8</td>\n",
       "      <td>1994 Mar</td>\n",
       "      <td>2020 Sep</td>\n",
       "    </tr>\n",
       "    <tr>\n",
       "      <th>4</th>\n",
       "      <td>linear regression</td>\n",
       "      <td>379</td>\n",
       "      <td>1976</td>\n",
       "      <td>2021 Mar 6</td>\n",
       "    </tr>\n",
       "    <tr>\n",
       "      <th>5</th>\n",
       "      <td>random forests</td>\n",
       "      <td>4</td>\n",
       "      <td>2004 Sep 28</td>\n",
       "      <td>2019 Jun</td>\n",
       "    </tr>\n",
       "    <tr>\n",
       "      <th>6</th>\n",
       "      <td>logistic regression</td>\n",
       "      <td>2922</td>\n",
       "      <td>1981 Jul</td>\n",
       "      <td>2021</td>\n",
       "    </tr>\n",
       "    <tr>\n",
       "      <th>7</th>\n",
       "      <td>convolutional neural networks</td>\n",
       "      <td>22</td>\n",
       "      <td>2017 Aug</td>\n",
       "      <td>2020</td>\n",
       "    </tr>\n",
       "    <tr>\n",
       "      <th>8</th>\n",
       "      <td>bayesian networks</td>\n",
       "      <td>4</td>\n",
       "      <td>2004 Mar</td>\n",
       "      <td>2019</td>\n",
       "    </tr>\n",
       "    <tr>\n",
       "      <th>9</th>\n",
       "      <td>data science</td>\n",
       "      <td>52</td>\n",
       "      <td>2015 May</td>\n",
       "      <td>2021 Mar 18</td>\n",
       "    </tr>\n",
       "  </tbody>\n",
       "</table>\n",
       "</div>"
      ],
      "text/plain": [
       "                    ML_algorithm Count   First_Paper Latest_paper\n",
       "0               machine learning   206      2002 Feb         2021\n",
       "1                neural networks   107      1994 Mar         2020\n",
       "2         support vector machine    68  2006 Jan-Feb  2020 Nov 30\n",
       "3             k-nearest neighbor     8      1994 Mar     2020 Sep\n",
       "4              linear regression   379          1976   2021 Mar 6\n",
       "5                 random forests     4   2004 Sep 28     2019 Jun\n",
       "6            logistic regression  2922      1981 Jul         2021\n",
       "7  convolutional neural networks    22      2017 Aug         2020\n",
       "8              bayesian networks     4      2004 Mar         2019\n",
       "9                   data science    52      2015 May  2021 Mar 18"
      ]
     },
     "execution_count": 10,
     "metadata": {},
     "output_type": "execute_result"
    }
   ],
   "source": [
    "tuberculosis_df = get_count(\"tuberculosis\",ml)\n",
    "tuberculosis_df"
   ]
  },
  {
   "cell_type": "code",
   "execution_count": 21,
   "metadata": {},
   "outputs": [
    {
     "data": {
      "text/html": [
       "<div>\n",
       "<style scoped>\n",
       "    .dataframe tbody tr th:only-of-type {\n",
       "        vertical-align: middle;\n",
       "    }\n",
       "\n",
       "    .dataframe tbody tr th {\n",
       "        vertical-align: top;\n",
       "    }\n",
       "\n",
       "    .dataframe thead th {\n",
       "        text-align: right;\n",
       "    }\n",
       "</style>\n",
       "<table border=\"1\" class=\"dataframe\">\n",
       "  <thead>\n",
       "    <tr style=\"text-align: right;\">\n",
       "      <th></th>\n",
       "      <th>ML_algorithm</th>\n",
       "      <th>Count</th>\n",
       "      <th>First_Paper</th>\n",
       "      <th>Latest_paper</th>\n",
       "    </tr>\n",
       "  </thead>\n",
       "  <tbody>\n",
       "    <tr>\n",
       "      <th>0</th>\n",
       "      <td>DNA sequencing</td>\n",
       "      <td>558</td>\n",
       "      <td>1988 Apr</td>\n",
       "      <td>2021 Mar 3</td>\n",
       "    </tr>\n",
       "    <tr>\n",
       "      <th>1</th>\n",
       "      <td>PCR</td>\n",
       "      <td>6484</td>\n",
       "      <td>1990-1991</td>\n",
       "      <td>2021 Feb 24</td>\n",
       "    </tr>\n",
       "    <tr>\n",
       "      <th>2</th>\n",
       "      <td>ELISA</td>\n",
       "      <td>2479</td>\n",
       "      <td>1976 Mar</td>\n",
       "      <td>2021 Feb 26</td>\n",
       "    </tr>\n",
       "    <tr>\n",
       "      <th>3</th>\n",
       "      <td>microarray</td>\n",
       "      <td>593</td>\n",
       "      <td>1950 Nov 18</td>\n",
       "      <td>2021</td>\n",
       "    </tr>\n",
       "    <tr>\n",
       "      <th>4</th>\n",
       "      <td>Sanger sequencing</td>\n",
       "      <td>90</td>\n",
       "      <td>2010 Jul</td>\n",
       "      <td>2021</td>\n",
       "    </tr>\n",
       "    <tr>\n",
       "      <th>5</th>\n",
       "      <td>Nanopore sequencing</td>\n",
       "      <td>5</td>\n",
       "      <td>2015 Dec 21</td>\n",
       "      <td>2020 Dec 17</td>\n",
       "    </tr>\n",
       "    <tr>\n",
       "      <th>6</th>\n",
       "      <td>GWAS</td>\n",
       "      <td>70</td>\n",
       "      <td>2011 Mar</td>\n",
       "      <td>2021 Mar 5</td>\n",
       "    </tr>\n",
       "  </tbody>\n",
       "</table>\n",
       "</div>"
      ],
      "text/plain": [
       "          ML_algorithm Count  First_Paper Latest_paper\n",
       "0       DNA sequencing   558     1988 Apr   2021 Mar 3\n",
       "1                  PCR  6484    1990-1991  2021 Feb 24\n",
       "2                ELISA  2479     1976 Mar  2021 Feb 26\n",
       "3           microarray   593  1950 Nov 18         2021\n",
       "4    Sanger sequencing    90     2010 Jul         2021\n",
       "5  Nanopore sequencing     5  2015 Dec 21  2020 Dec 17\n",
       "6                 GWAS    70     2011 Mar   2021 Mar 5"
      ]
     },
     "execution_count": 21,
     "metadata": {},
     "output_type": "execute_result"
    }
   ],
   "source": [
    "other_tech_tb = get_count(\"tuberculosis\",other_tech)\n",
    "other_tech_tb"
   ]
  },
  {
   "cell_type": "markdown",
   "metadata": {},
   "source": [
    "Now we can clean the dataframes to include delay details and the year of First Publication"
   ]
  },
  {
   "cell_type": "code",
   "execution_count": 37,
   "metadata": {},
   "outputs": [],
   "source": [
    "def clean_df(df,disease):\n",
    "    #df['date'] = pd.to_datetime(df['First_Paper'])\n",
    "    df['date'] = df.apply(\n",
    "    lambda row: pd.to_datetime(row['First_Paper']), axis=1)\n",
    "    df['year_%s' % disease] = df.date.dt.year\n",
    "    df  = df[['ML_algorithm','Count','year_%s' % disease]]\n",
    "    df.columns = ['ML_algorithm','%s_Count' % disease,'year_%s' % disease]\n",
    "    \n",
    "    return df"
   ]
  },
  {
   "cell_type": "code",
   "execution_count": 38,
   "metadata": {},
   "outputs": [
    {
     "data": {
      "text/html": [
       "<div>\n",
       "<style scoped>\n",
       "    .dataframe tbody tr th:only-of-type {\n",
       "        vertical-align: middle;\n",
       "    }\n",
       "\n",
       "    .dataframe tbody tr th {\n",
       "        vertical-align: top;\n",
       "    }\n",
       "\n",
       "    .dataframe thead th {\n",
       "        text-align: right;\n",
       "    }\n",
       "</style>\n",
       "<table border=\"1\" class=\"dataframe\">\n",
       "  <thead>\n",
       "    <tr style=\"text-align: right;\">\n",
       "      <th></th>\n",
       "      <th>ML_algorithm</th>\n",
       "      <th>malaria_Count</th>\n",
       "      <th>year_malaria</th>\n",
       "    </tr>\n",
       "  </thead>\n",
       "  <tbody>\n",
       "    <tr>\n",
       "      <th>0</th>\n",
       "      <td>machine learning</td>\n",
       "      <td>136</td>\n",
       "      <td>2008</td>\n",
       "    </tr>\n",
       "    <tr>\n",
       "      <th>1</th>\n",
       "      <td>neural networks</td>\n",
       "      <td>48</td>\n",
       "      <td>2001</td>\n",
       "    </tr>\n",
       "    <tr>\n",
       "      <th>2</th>\n",
       "      <td>support vector machine</td>\n",
       "      <td>25</td>\n",
       "      <td>2008</td>\n",
       "    </tr>\n",
       "    <tr>\n",
       "      <th>3</th>\n",
       "      <td>k-nearest neighbor</td>\n",
       "      <td>7</td>\n",
       "      <td>2010</td>\n",
       "    </tr>\n",
       "    <tr>\n",
       "      <th>4</th>\n",
       "      <td>linear regression</td>\n",
       "      <td>266</td>\n",
       "      <td>1983</td>\n",
       "    </tr>\n",
       "    <tr>\n",
       "      <th>5</th>\n",
       "      <td>random forests</td>\n",
       "      <td>7</td>\n",
       "      <td>2013</td>\n",
       "    </tr>\n",
       "    <tr>\n",
       "      <th>6</th>\n",
       "      <td>logistic regression</td>\n",
       "      <td>1283</td>\n",
       "      <td>1987</td>\n",
       "    </tr>\n",
       "    <tr>\n",
       "      <th>7</th>\n",
       "      <td>convolutional neural networks</td>\n",
       "      <td>8</td>\n",
       "      <td>2018</td>\n",
       "    </tr>\n",
       "    <tr>\n",
       "      <th>8</th>\n",
       "      <td>bayesian networks</td>\n",
       "      <td>3</td>\n",
       "      <td>2015</td>\n",
       "    </tr>\n",
       "    <tr>\n",
       "      <th>9</th>\n",
       "      <td>data science</td>\n",
       "      <td>28</td>\n",
       "      <td>2017</td>\n",
       "    </tr>\n",
       "  </tbody>\n",
       "</table>\n",
       "</div>"
      ],
      "text/plain": [
       "                    ML_algorithm malaria_Count  year_malaria\n",
       "0               machine learning           136          2008\n",
       "1                neural networks            48          2001\n",
       "2         support vector machine            25          2008\n",
       "3             k-nearest neighbor             7          2010\n",
       "4              linear regression           266          1983\n",
       "5                 random forests             7          2013\n",
       "6            logistic regression          1283          1987\n",
       "7  convolutional neural networks             8          2018\n",
       "8              bayesian networks             3          2015\n",
       "9                   data science            28          2017"
      ]
     },
     "execution_count": 38,
     "metadata": {},
     "output_type": "execute_result"
    }
   ],
   "source": [
    "malaria_clean = clean_df(malaria_df,'malaria')\n",
    "malaria_clean"
   ]
  },
  {
   "cell_type": "code",
   "execution_count": 39,
   "metadata": {},
   "outputs": [
    {
     "data": {
      "text/html": [
       "<div>\n",
       "<style scoped>\n",
       "    .dataframe tbody tr th:only-of-type {\n",
       "        vertical-align: middle;\n",
       "    }\n",
       "\n",
       "    .dataframe tbody tr th {\n",
       "        vertical-align: top;\n",
       "    }\n",
       "\n",
       "    .dataframe thead th {\n",
       "        text-align: right;\n",
       "    }\n",
       "</style>\n",
       "<table border=\"1\" class=\"dataframe\">\n",
       "  <thead>\n",
       "    <tr style=\"text-align: right;\">\n",
       "      <th></th>\n",
       "      <th>ML_algorithm</th>\n",
       "      <th>cancer_Count</th>\n",
       "      <th>year_cancer</th>\n",
       "    </tr>\n",
       "  </thead>\n",
       "  <tbody>\n",
       "    <tr>\n",
       "      <th>0</th>\n",
       "      <td>machine learning</td>\n",
       "      <td>6784</td>\n",
       "      <td>1990</td>\n",
       "    </tr>\n",
       "    <tr>\n",
       "      <th>1</th>\n",
       "      <td>neural networks</td>\n",
       "      <td>4081</td>\n",
       "      <td>1989</td>\n",
       "    </tr>\n",
       "    <tr>\n",
       "      <th>2</th>\n",
       "      <td>support vector machine</td>\n",
       "      <td>2745</td>\n",
       "      <td>2000</td>\n",
       "    </tr>\n",
       "    <tr>\n",
       "      <th>3</th>\n",
       "      <td>k-nearest neighbor</td>\n",
       "      <td>382</td>\n",
       "      <td>1992</td>\n",
       "    </tr>\n",
       "    <tr>\n",
       "      <th>4</th>\n",
       "      <td>linear regression</td>\n",
       "      <td>9886</td>\n",
       "      <td>1975</td>\n",
       "    </tr>\n",
       "    <tr>\n",
       "      <th>5</th>\n",
       "      <td>random forests</td>\n",
       "      <td>315</td>\n",
       "      <td>2003</td>\n",
       "    </tr>\n",
       "    <tr>\n",
       "      <th>6</th>\n",
       "      <td>logistic regression</td>\n",
       "      <td>51725</td>\n",
       "      <td>1976</td>\n",
       "    </tr>\n",
       "    <tr>\n",
       "      <th>7</th>\n",
       "      <td>convolutional neural networks</td>\n",
       "      <td>811</td>\n",
       "      <td>2013</td>\n",
       "    </tr>\n",
       "    <tr>\n",
       "      <th>8</th>\n",
       "      <td>bayesian networks</td>\n",
       "      <td>156</td>\n",
       "      <td>1995</td>\n",
       "    </tr>\n",
       "    <tr>\n",
       "      <th>9</th>\n",
       "      <td>data science</td>\n",
       "      <td>2230</td>\n",
       "      <td>2007</td>\n",
       "    </tr>\n",
       "  </tbody>\n",
       "</table>\n",
       "</div>"
      ],
      "text/plain": [
       "                    ML_algorithm cancer_Count  year_cancer\n",
       "0               machine learning         6784         1990\n",
       "1                neural networks         4081         1989\n",
       "2         support vector machine         2745         2000\n",
       "3             k-nearest neighbor          382         1992\n",
       "4              linear regression         9886         1975\n",
       "5                 random forests          315         2003\n",
       "6            logistic regression        51725         1976\n",
       "7  convolutional neural networks          811         2013\n",
       "8              bayesian networks          156         1995\n",
       "9                   data science         2230         2007"
      ]
     },
     "execution_count": 39,
     "metadata": {},
     "output_type": "execute_result"
    }
   ],
   "source": [
    "cancer_clean = clean_df(cancer_df,'cancer')\n",
    "cancer_clean"
   ]
  },
  {
   "cell_type": "code",
   "execution_count": 40,
   "metadata": {},
   "outputs": [],
   "source": [
    "def merge_data(df1,df2,disease1,disease2):\n",
    "    \"\"\"\n",
    "    Ceates a merged dataframe of two diseases being compared\n",
    "    with the delay in tech adoption in years\n",
    "    \"\"\"\n",
    "    marged_data = pd.merge(df1, df2, on='ML_algorithm')\n",
    "    marged_data['delay'] = marged_data['year_%s' % disease2] - marged_data['year_%s' % disease1]\n",
    "    marged_data.set_index('ML_algorithm',inplace=True)\n",
    "    return  marged_data"
   ]
  },
  {
   "cell_type": "code",
   "execution_count": 41,
   "metadata": {},
   "outputs": [],
   "source": [
    "malaria_cancer_ml = merge_data(cancer_clean,malaria_clean,\"cancer\",\"malaria\")"
   ]
  },
  {
   "cell_type": "code",
   "execution_count": 42,
   "metadata": {},
   "outputs": [
    {
     "data": {
      "text/plain": [
       "12.0"
      ]
     },
     "execution_count": 42,
     "metadata": {},
     "output_type": "execute_result"
    }
   ],
   "source": [
    "malaria_cancer_ml.delay.mean()"
   ]
  },
  {
   "cell_type": "code",
   "execution_count": 76,
   "metadata": {},
   "outputs": [
    {
     "data": {
      "text/html": [
       "<div>\n",
       "<style scoped>\n",
       "    .dataframe tbody tr th:only-of-type {\n",
       "        vertical-align: middle;\n",
       "    }\n",
       "\n",
       "    .dataframe tbody tr th {\n",
       "        vertical-align: top;\n",
       "    }\n",
       "\n",
       "    .dataframe thead th {\n",
       "        text-align: right;\n",
       "    }\n",
       "</style>\n",
       "<table border=\"1\" class=\"dataframe\">\n",
       "  <thead>\n",
       "    <tr style=\"text-align: right;\">\n",
       "      <th></th>\n",
       "      <th>cancer_Count</th>\n",
       "      <th>year_cancer</th>\n",
       "      <th>malaria_Count</th>\n",
       "      <th>year_malaria</th>\n",
       "      <th>delay</th>\n",
       "    </tr>\n",
       "    <tr>\n",
       "      <th>ML_algorithm</th>\n",
       "      <th></th>\n",
       "      <th></th>\n",
       "      <th></th>\n",
       "      <th></th>\n",
       "      <th></th>\n",
       "    </tr>\n",
       "  </thead>\n",
       "  <tbody>\n",
       "    <tr>\n",
       "      <th>machine learning</th>\n",
       "      <td>6784</td>\n",
       "      <td>1990</td>\n",
       "      <td>136</td>\n",
       "      <td>2008</td>\n",
       "      <td>18</td>\n",
       "    </tr>\n",
       "    <tr>\n",
       "      <th>neural networks</th>\n",
       "      <td>4081</td>\n",
       "      <td>1989</td>\n",
       "      <td>48</td>\n",
       "      <td>2001</td>\n",
       "      <td>12</td>\n",
       "    </tr>\n",
       "    <tr>\n",
       "      <th>support vector machine</th>\n",
       "      <td>2745</td>\n",
       "      <td>2000</td>\n",
       "      <td>25</td>\n",
       "      <td>2008</td>\n",
       "      <td>8</td>\n",
       "    </tr>\n",
       "    <tr>\n",
       "      <th>k-nearest neighbor</th>\n",
       "      <td>382</td>\n",
       "      <td>1992</td>\n",
       "      <td>7</td>\n",
       "      <td>2010</td>\n",
       "      <td>18</td>\n",
       "    </tr>\n",
       "    <tr>\n",
       "      <th>linear regression</th>\n",
       "      <td>9886</td>\n",
       "      <td>1975</td>\n",
       "      <td>266</td>\n",
       "      <td>1983</td>\n",
       "      <td>8</td>\n",
       "    </tr>\n",
       "    <tr>\n",
       "      <th>random forests</th>\n",
       "      <td>315</td>\n",
       "      <td>2003</td>\n",
       "      <td>7</td>\n",
       "      <td>2013</td>\n",
       "      <td>10</td>\n",
       "    </tr>\n",
       "    <tr>\n",
       "      <th>logistic regression</th>\n",
       "      <td>51725</td>\n",
       "      <td>1976</td>\n",
       "      <td>1283</td>\n",
       "      <td>1987</td>\n",
       "      <td>11</td>\n",
       "    </tr>\n",
       "    <tr>\n",
       "      <th>convolutional neural networks</th>\n",
       "      <td>811</td>\n",
       "      <td>2013</td>\n",
       "      <td>8</td>\n",
       "      <td>2018</td>\n",
       "      <td>5</td>\n",
       "    </tr>\n",
       "    <tr>\n",
       "      <th>bayesian networks</th>\n",
       "      <td>156</td>\n",
       "      <td>1995</td>\n",
       "      <td>3</td>\n",
       "      <td>2015</td>\n",
       "      <td>20</td>\n",
       "    </tr>\n",
       "    <tr>\n",
       "      <th>data science</th>\n",
       "      <td>2230</td>\n",
       "      <td>2007</td>\n",
       "      <td>28</td>\n",
       "      <td>2017</td>\n",
       "      <td>10</td>\n",
       "    </tr>\n",
       "  </tbody>\n",
       "</table>\n",
       "</div>"
      ],
      "text/plain": [
       "                              cancer_Count  year_cancer malaria_Count  \\\n",
       "ML_algorithm                                                            \n",
       "machine learning                      6784         1990           136   \n",
       "neural networks                       4081         1989            48   \n",
       "support vector machine                2745         2000            25   \n",
       "k-nearest neighbor                     382         1992             7   \n",
       "linear regression                     9886         1975           266   \n",
       "random forests                         315         2003             7   \n",
       "logistic regression                  51725         1976          1283   \n",
       "convolutional neural networks          811         2013             8   \n",
       "bayesian networks                      156         1995             3   \n",
       "data science                          2230         2007            28   \n",
       "\n",
       "                               year_malaria  delay  \n",
       "ML_algorithm                                        \n",
       "machine learning                       2008     18  \n",
       "neural networks                        2001     12  \n",
       "support vector machine                 2008      8  \n",
       "k-nearest neighbor                     2010     18  \n",
       "linear regression                      1983      8  \n",
       "random forests                         2013     10  \n",
       "logistic regression                    1987     11  \n",
       "convolutional neural networks          2018      5  \n",
       "bayesian networks                      2015     20  \n",
       "data science                           2017     10  "
      ]
     },
     "execution_count": 76,
     "metadata": {},
     "output_type": "execute_result"
    }
   ],
   "source": [
    "malaria_cancer_ml"
   ]
  },
  {
   "cell_type": "code",
   "execution_count": 47,
   "metadata": {},
   "outputs": [],
   "source": [
    "other_cancer = clean_df(other_tech_cancer,'cancer')\n",
    "other_malaria = clean_df(other_tech_malaria,'malaria')"
   ]
  },
  {
   "cell_type": "code",
   "execution_count": 48,
   "metadata": {},
   "outputs": [],
   "source": [
    "malaria_cancer_other = merge_data(other_cancer,other_malaria,\"cancer\",\"malaria\")"
   ]
  },
  {
   "cell_type": "code",
   "execution_count": 49,
   "metadata": {},
   "outputs": [
    {
     "data": {
      "text/html": [
       "<div>\n",
       "<style scoped>\n",
       "    .dataframe tbody tr th:only-of-type {\n",
       "        vertical-align: middle;\n",
       "    }\n",
       "\n",
       "    .dataframe tbody tr th {\n",
       "        vertical-align: top;\n",
       "    }\n",
       "\n",
       "    .dataframe thead th {\n",
       "        text-align: right;\n",
       "    }\n",
       "</style>\n",
       "<table border=\"1\" class=\"dataframe\">\n",
       "  <thead>\n",
       "    <tr style=\"text-align: right;\">\n",
       "      <th></th>\n",
       "      <th>cancer_Count</th>\n",
       "      <th>year_cancer</th>\n",
       "      <th>malaria_Count</th>\n",
       "      <th>year_malaria</th>\n",
       "      <th>delay</th>\n",
       "    </tr>\n",
       "    <tr>\n",
       "      <th>ML_algorithm</th>\n",
       "      <th></th>\n",
       "      <th></th>\n",
       "      <th></th>\n",
       "      <th></th>\n",
       "      <th></th>\n",
       "    </tr>\n",
       "  </thead>\n",
       "  <tbody>\n",
       "    <tr>\n",
       "      <th>DNA sequencing</th>\n",
       "      <td>6206</td>\n",
       "      <td>1978</td>\n",
       "      <td>221</td>\n",
       "      <td>1988</td>\n",
       "      <td>10</td>\n",
       "    </tr>\n",
       "    <tr>\n",
       "      <th>PCR</th>\n",
       "      <td>122366</td>\n",
       "      <td>1978</td>\n",
       "      <td>4983</td>\n",
       "      <td>1983</td>\n",
       "      <td>5</td>\n",
       "    </tr>\n",
       "    <tr>\n",
       "      <th>ELISA</th>\n",
       "      <td>23705</td>\n",
       "      <td>1978</td>\n",
       "      <td>1929</td>\n",
       "      <td>1976</td>\n",
       "      <td>-2</td>\n",
       "    </tr>\n",
       "    <tr>\n",
       "      <th>microarray</th>\n",
       "      <td>36986</td>\n",
       "      <td>1953</td>\n",
       "      <td>387</td>\n",
       "      <td>2000</td>\n",
       "      <td>47</td>\n",
       "    </tr>\n",
       "    <tr>\n",
       "      <th>Sanger sequencing</th>\n",
       "      <td>2708</td>\n",
       "      <td>1995</td>\n",
       "      <td>49</td>\n",
       "      <td>2012</td>\n",
       "      <td>17</td>\n",
       "    </tr>\n",
       "    <tr>\n",
       "      <th>Nanopore sequencing</th>\n",
       "      <td>78</td>\n",
       "      <td>2013</td>\n",
       "      <td>5</td>\n",
       "      <td>2018</td>\n",
       "      <td>5</td>\n",
       "    </tr>\n",
       "    <tr>\n",
       "      <th>GWAS</th>\n",
       "      <td>2830</td>\n",
       "      <td>1997</td>\n",
       "      <td>41</td>\n",
       "      <td>2008</td>\n",
       "      <td>11</td>\n",
       "    </tr>\n",
       "  </tbody>\n",
       "</table>\n",
       "</div>"
      ],
      "text/plain": [
       "                    cancer_Count  year_cancer malaria_Count  year_malaria  \\\n",
       "ML_algorithm                                                                \n",
       "DNA sequencing              6206         1978           221          1988   \n",
       "PCR                       122366         1978          4983          1983   \n",
       "ELISA                      23705         1978          1929          1976   \n",
       "microarray                 36986         1953           387          2000   \n",
       "Sanger sequencing           2708         1995            49          2012   \n",
       "Nanopore sequencing           78         2013             5          2018   \n",
       "GWAS                        2830         1997            41          2008   \n",
       "\n",
       "                     delay  \n",
       "ML_algorithm                \n",
       "DNA sequencing          10  \n",
       "PCR                      5  \n",
       "ELISA                   -2  \n",
       "microarray              47  \n",
       "Sanger sequencing       17  \n",
       "Nanopore sequencing      5  \n",
       "GWAS                    11  "
      ]
     },
     "execution_count": 49,
     "metadata": {},
     "output_type": "execute_result"
    }
   ],
   "source": [
    "malaria_cancer_other"
   ]
  },
  {
   "cell_type": "code",
   "execution_count": 50,
   "metadata": {},
   "outputs": [
    {
     "data": {
      "text/plain": [
       "13.285714285714286"
      ]
     },
     "execution_count": 50,
     "metadata": {},
     "output_type": "execute_result"
    }
   ],
   "source": [
    "malaria_cancer_other.delay.mean()"
   ]
  },
  {
   "cell_type": "markdown",
   "metadata": {},
   "source": [
    "The total number of papers in PubMed mentioning cancer are 4281357"
   ]
  },
  {
   "cell_type": "code",
   "execution_count": 51,
   "metadata": {},
   "outputs": [
    {
     "data": {
      "text/plain": [
       "4281357"
      ]
     },
     "execution_count": 51,
     "metadata": {},
     "output_type": "execute_result"
    }
   ],
   "source": [
    "handle = Entrez.esearch(db = \"pubmed\", retmax=10000000, term=\"cancer\")\n",
    "kenyan_records = Entrez.read(handle)\n",
    "cancer_total = len(kenyan_records[\"IdList\"])\n",
    "cancer_total"
   ]
  },
  {
   "cell_type": "markdown",
   "metadata": {},
   "source": [
    "While for malaria, we have 99759 papers in PubMed"
   ]
  },
  {
   "cell_type": "code",
   "execution_count": 52,
   "metadata": {},
   "outputs": [
    {
     "data": {
      "text/plain": [
       "99759"
      ]
     },
     "execution_count": 52,
     "metadata": {},
     "output_type": "execute_result"
    }
   ],
   "source": [
    "handle = Entrez.esearch(db = \"pubmed\", retmax=100000, term=\"malaria\")\n",
    "kenyan_records = Entrez.read(handle)\n",
    "malaria_total = len(kenyan_records[\"IdList\"])\n",
    "malaria_total"
   ]
  },
  {
   "cell_type": "markdown",
   "metadata": {},
   "source": [
    "### Download paper details for additional analysis\n",
    "With that captured, we can now check for the number of papers published for the popular machine learning algorithms for malaria research. We will use this data to observe the trends in the adoption of various algorithms"
   ]
  },
  {
   "cell_type": "code",
   "execution_count": 79,
   "metadata": {},
   "outputs": [],
   "source": [
    "def get_paper_details(ml,disease):\n",
    "    for machine in ml:\n",
    "        handle = Entrez.esearch(db = \"pubmed\", retmax=100000, term=\"[%s] AND %s\" % (machine,disease))\n",
    "        kenyan_records = Entrez.read(handle)\n",
    "        kenyan_pubids = kenyan_records[\"IdList\"]\n",
    "        write_paper = \"_\".join(machine.split()) +\"_paper.txt\"\n",
    "        Main_df = pd.DataFrame()\n",
    "        for pubid in kenyan_pubids:\n",
    "            #retrieve paper abstracts so that we can extract additional information, like country\n",
    "            paper_retriever(pubid, \"calebkibet88@gmail.com\", \"Data/%s/abstracts/%s\" % (disease,write_paper.replace('\"','')))\n",
    "            test= Entrez.read(Entrez.esummary(db = \"pubmed\", id = pubid))\n",
    "            df2 = pd.DataFrame(test)\n",
    "            Main_df = pd.concat([Main_df,df2])\n",
    "\n",
    "        Cleaned_Main_df = Main_df[['Id', 'ArticleIds', 'AuthorList', 'DOI' ,\n",
    "               'FullJournalName', 'HasAbstract', 'LastAuthor', 'NlmUniqueID',\n",
    "               'PubDate', 'PubTypeList', 'RecordStatus', 'Source', 'Title']]\n",
    "        out_file = \"_\".join(machine.split())+\".txt\"\n",
    "        Cleaned_Main_df.to_csv(\"Data/%s/metadata/%s\" % (disease,out_file.replace('\"','')), sep='\\t', index=False)\n",
    "    "
   ]
  },
  {
   "cell_type": "code",
   "execution_count": 80,
   "metadata": {},
   "outputs": [],
   "source": [
    "ml = ['\"data science\"']"
   ]
  },
  {
   "cell_type": "code",
   "execution_count": 81,
   "metadata": {},
   "outputs": [],
   "source": [
    "get_paper_details(ml,'malaria')"
   ]
  },
  {
   "cell_type": "code",
   "execution_count": 96,
   "metadata": {},
   "outputs": [],
   "source": [
    "get_paper_details(ml,'cancer')"
   ]
  },
  {
   "cell_type": "markdown",
   "metadata": {},
   "source": [
    "Next, we write a function to retrieve abstract and metadata, which we get to use later to extract important information. "
   ]
  },
  {
   "cell_type": "code",
   "execution_count": 72,
   "metadata": {},
   "outputs": [],
   "source": [
    "def paper_retriever(pubmedid, email, output_file):\n",
    "    '''The paper retriever function takes your email which uses the same name email as an \n",
    "    argument, pubmedid you can get this from the previous function, searchterm take the NCBI type of query as a string\n",
    "    and renamefile just changing your file names to avoid confusion.\n",
    "    \n",
    "    Return the full paper depending on if it's open access or not.\n",
    "    '''\n",
    "    \n",
    "    # Enter your own email\n",
    "    Entrez.email = email\n",
    "    \n",
    "    # the method efetch does and fetches the information you need brings it back to your Ipython session\n",
    "    handle2 = Entrez.efetch(db=\"pubmed\", id = pubmedid, rettype=\"gb\",retmode=\"text\")\n",
    "    \n",
    "    # using cell magic in a function in the jupyter notebook\n",
    "    with open(output_file, 'a') as paper_data:\n",
    "        paper_data.write(handle2.read())\n",
    "\n"
   ]
  },
  {
   "cell_type": "code",
   "execution_count": 73,
   "metadata": {},
   "outputs": [],
   "source": [
    "def parseAbstracts(infile,outfile):\n",
    "    with open(outfile,'w') as clean:\n",
    "        with open(infile) as abstract:\n",
    "            tag = False\n",
    "            for line in abstract:\n",
    "                if line[0].isdigit() and (\n",
    "                    line[1:3] == '. ' or line[2:4] == '. ' or line[3:5] == '. '):\n",
    "                    if tag:\n",
    "                        continue\n",
    "                    else:\n",
    "                        try:\n",
    "                            date = line.replace(\n",
    "                                ';','.').replace(':','.').split('.')[2]\n",
    "                            journal = line.replace(\n",
    "                                ';','.').replace(':','.').split('.')[1]\n",
    "                            tag = True\n",
    "                        except IndexError:\n",
    "                            print(line)\n",
    "                            tag = False\n",
    "                if tag and line.startswith('PMID:'):\n",
    "                    pubid = line.split()[1]\n",
    "                    tag=False\n",
    "                    clean.write('%s\\t%s\\t%s\\n' % (pubid, journal, date.strip()))"
   ]
  },
  {
   "cell_type": "markdown",
   "metadata": {},
   "source": [
    "### Fetch Country details from Author Information\n",
    "In this section, we are interested in extracting the author country information. We want to understand who is driving the adoption of machine learning approaches in malaria research. We use the affiliation of the first author or the most common country. First, we install `geograpy` using: \n",
    "\n",
    "`python3 -m pip install git+https://github.com/reach2ashish/geograpy.git`\n",
    "\n",
    "However, python3 version of this tool does not work well, it seems to extract incorrect details. We then opted for an alternative, `pycountry`, which we use to check if a country name exists in the affiliation section of the paper. However, this tool does not consider abbreviations and alternative names. We have to manually test for UK and USA. "
   ]
  },
  {
   "cell_type": "code",
   "execution_count": 65,
   "metadata": {},
   "outputs": [],
   "source": [
    "import geograpy"
   ]
  },
  {
   "cell_type": "markdown",
   "metadata": {},
   "source": [
    "First we need to dowload the required nltk data"
   ]
  },
  {
   "cell_type": "code",
   "execution_count": 63,
   "metadata": {},
   "outputs": [],
   "source": [
    "import nltk"
   ]
  },
  {
   "cell_type": "code",
   "execution_count": 66,
   "metadata": {},
   "outputs": [
    {
     "name": "stderr",
     "output_type": "stream",
     "text": [
      "[nltk_data] Downloading package punkt to /Users/caleb/nltk_data...\n",
      "[nltk_data]   Unzipping tokenizers/punkt.zip.\n",
      "[nltk_data] Downloading package averaged_perceptron_tagger to\n",
      "[nltk_data]     /Users/caleb/nltk_data...\n",
      "[nltk_data]   Unzipping taggers/averaged_perceptron_tagger.zip.\n",
      "[nltk_data] Downloading package maxent_ne_chunker to\n",
      "[nltk_data]     /Users/caleb/nltk_data...\n",
      "[nltk_data]   Unzipping chunkers/maxent_ne_chunker.zip.\n",
      "[nltk_data] Downloading package words to /Users/caleb/nltk_data...\n",
      "[nltk_data]   Unzipping corpora/words.zip.\n"
     ]
    },
    {
     "data": {
      "text/plain": [
       "True"
      ]
     },
     "execution_count": 66,
     "metadata": {},
     "output_type": "execute_result"
    }
   ],
   "source": [
    "nltk.download('punkt')\n",
    "nltk.download('averaged_perceptron_tagger')\n",
    "nltk.download('maxent_ne_chunker')\n",
    "nltk.download('words')"
   ]
  },
  {
   "cell_type": "markdown",
   "metadata": {},
   "source": [
    "Here is an the pycountry tool in action. "
   ]
  },
  {
   "cell_type": "code",
   "execution_count": 67,
   "metadata": {
    "scrolled": true
   },
   "outputs": [
    {
     "name": "stdout",
     "output_type": "stream",
     "text": [
      "United Kingdom\n",
      "United States\n"
     ]
    }
   ],
   "source": [
    "import pycountry\n",
    "texts = \"United States (New York), United Kingdom (London)\"\n",
    "for country in pycountry.countries:\n",
    "    if country.name.lower() in texts.lower():\n",
    "        print(country.name)"
   ]
  },
  {
   "cell_type": "code",
   "execution_count": 68,
   "metadata": {},
   "outputs": [
    {
     "data": {
      "text/plain": [
       "['New York',\n",
       " 'United Kingdom',\n",
       " 'London',\n",
       " 'US Miscellaneous Pacific Islands',\n",
       " 'United States',\n",
       " 'Canada',\n",
       " 'South Africa']"
      ]
     },
     "execution_count": 68,
     "metadata": {},
     "output_type": "execute_result"
    }
   ],
   "source": [
    "p=geograpy.get_place_context(text=texts)\n",
    "p.countries"
   ]
  },
  {
   "cell_type": "markdown",
   "metadata": {},
   "source": [
    "As can be observed above, the geograpy tool does not give the correct information. Hence the need for an alternative. "
   ]
  },
  {
   "cell_type": "markdown",
   "metadata": {},
   "source": [
    "## Extract country details from paper metadata\n",
    "\n",
    "With the downloaded data, we can attempt to extract country details from the Author information using the pycountry tool. For each article, we pass the author information to the algorithm which creates a list of all the countries in the text, in order of appearance in the text. We can assume the first will host information of the first author, where available. IEven if that's not the case, we expect the first item will be representative paper country affiliation. "
   ]
  },
  {
   "cell_type": "code",
   "execution_count": 70,
   "metadata": {},
   "outputs": [
    {
     "data": {
      "text/plain": [
       "'/Users/caleb/Project/MachineLearning4Malaria'"
      ]
     },
     "execution_count": 70,
     "metadata": {},
     "output_type": "execute_result"
    }
   ],
   "source": [
    "pwd"
   ]
  },
  {
   "cell_type": "code",
   "execution_count": null,
   "metadata": {
    "scrolled": true
   },
   "outputs": [],
   "source": [
    "for machine in ml:\n",
    "    disease = 'malaria'\n",
    "    nations = \"_\".join(machine.split()) +\"_country.txt\"\n",
    "    write_paper = \"_\".join(machine.split()) +\"_paper.txt\"\n",
    "    print(machine)\n",
    "    \n",
    "    with open(\"Data/%s/country/%s\" % (disease,nations.replace('\"','')),'w') as nation:\n",
    "        with open(\"Data/%s/abstracts/%s\" % (disease,write_paper.replace('\"',''))) as abstract:\n",
    "            tag = False\n",
    "            search_text = \"\"\n",
    "            for line in abstract:\n",
    "                if line.startswith(\"Author information:\"):\n",
    "                    tag = True\n",
    "                if tag:\n",
    "                    if line != \"\\n\":\n",
    "                        search_text = search_text + line\n",
    "                    else:\n",
    "                        #print(search_text)\n",
    "                        tag = False\n",
    "                        countries = []\n",
    "                        for country in pycountry.countries:\n",
    "                            if country.name.lower() in search_text.lower():\n",
    "                                countries.append(country.name)\n",
    "                        if \"usa\" in search_text.lower():\n",
    "                            countries.append(\"United States\")\n",
    "                        if \"UK\" in search_text:\n",
    "                            countries.append(\"United Kingdom\")\n",
    "                        if len(countries) == 0:\n",
    "                            countries.append(\"Missing\")\n",
    "                        #print(countries)\n",
    "                        search_text = \"\"\n",
    "                        #print(countries[0],end=\"\\t\")\n",
    "                        #print(countries)\n",
    "                        nation.write(countries[0]+\"\\t\")\n",
    "                if line.startswith('PMID:'):\n",
    "                    pubid = line.split()[1]\n",
    "                    nation.write(pubid+\"\\n\")\n",
    "                    #print(pubid)\n",
    "                \n",
    "            #print(pubid,country)\n"
   ]
  },
  {
   "cell_type": "code",
   "execution_count": 83,
   "metadata": {},
   "outputs": [],
   "source": [
    "c = pd.read_table('countries.txt')"
   ]
  },
  {
   "cell_type": "code",
   "execution_count": 84,
   "metadata": {},
   "outputs": [
    {
     "name": "stderr",
     "output_type": "stream",
     "text": [
      "/Users/caleb/opt/miniconda3/envs/malaria/lib/python3.9/site-packages/seaborn/categorical.py:3714: UserWarning: The `factorplot` function has been renamed to `catplot`. The original name will be removed in a future release. Please update your code. Note that the default `kind` in `factorplot` (`'point'`) has changed `'strip'` in `catplot`.\n",
      "  warnings.warn(msg)\n",
      "/Users/caleb/opt/miniconda3/envs/malaria/lib/python3.9/site-packages/seaborn/categorical.py:3720: UserWarning: The `size` parameter has been renamed to `height`; please update your code.\n",
      "  warnings.warn(msg, UserWarning)\n"
     ]
    },
    {
     "data": {
      "text/plain": [
       "<seaborn.axisgrid.FacetGrid at 0x16e9fc850>"
      ]
     },
     "execution_count": 84,
     "metadata": {},
     "output_type": "execute_result"
    },
    {
     "data": {
      "image/png": "[encoded data removed]",
      "text/plain": [
       "<Figure size 651.475x360 with 1 Axes>"
      ]
     },
     "metadata": {
      "needs_background": "light"
     },
     "output_type": "display_data"
    }
   ],
   "source": [
    "g = sns.factorplot(x=\"Country\", kind=\"count\", hue='Continent', data=c, orient='v', size=5, aspect=1.5,dodge=False)\n",
    "\n",
    "g.set_xticklabels(rotation=90)"
   ]
  },
  {
   "cell_type": "code",
   "execution_count": 85,
   "metadata": {},
   "outputs": [],
   "source": [
    "g.savefig('Plots/Country_continent.png')"
   ]
  },
  {
   "cell_type": "markdown",
   "metadata": {},
   "source": [
    "From the above, we observe that lest basic machine learning techniques are widely used in malaria research, they are also being used by African researchers. Clearly, linear and logistic regression are widely used for identifying relationships between multiple factors for categorical and continuous variables, respectively. "
   ]
  },
  {
   "cell_type": "code",
   "execution_count": 86,
   "metadata": {},
   "outputs": [],
   "source": [
    "def convertDate(data):\n",
    "    '''\n",
    "    Given a dataframe, convert to date time and separate\n",
    "    the date columns\n",
    "    '''\n",
    "    #data.set_index('Id', inplace=True)\n",
    "    #### Conver the date column to date format\n",
    "    data['date'] = pd.to_datetime(data['PubDate'], errors='coerce')\n",
    "    data['year'] = data.date.dt.year\n",
    "    data['month'] = data.date.dt.month\n",
    "    ### Save the data in a csv for future re-use\n",
    "    #data.to_csv(outcsv,sep='\\t')\n",
    "    return data"
   ]
  },
  {
   "cell_type": "markdown",
   "metadata": {},
   "source": [
    "### Data Analysis and Visualization\n",
    "\n",
    "Here we perform quick plots to understand trends in machine learning diffusion to malaria research. "
   ]
  },
  {
   "cell_type": "code",
   "execution_count": 88,
   "metadata": {},
   "outputs": [],
   "source": [
    "sns.set(style=\"white\")"
   ]
  },
  {
   "cell_type": "code",
   "execution_count": 90,
   "metadata": {},
   "outputs": [],
   "source": [
    "def plot_counts(machine):\n",
    "    \"\"\"\n",
    "    Function to plot the counts of papers in each yeaar that \n",
    "    mention a machine learning algorithm\n",
    "    \"\"\"\n",
    "    machine = machine.replace('\"','')\n",
    "    out_file = \"_\".join(machine.split())\n",
    "    path = \"Data/%s/metadata/%s.txt\" % ('malaria',out_file)\n",
    "    data = pd.read_table(path, index_col='Id')\n",
    "    data = convertDate(data)\n",
    "    data.dropna(axis = 0, how ='any',inplace=True)\n",
    "    data.year = data.year.astype(int)\n",
    "    ax = data['year'].value_counts().sort_index().plot(kind='bar',\n",
    "                                     title='      Number of papers talking about malaria and %s per year'% machine,\n",
    "                                                  figsize=(8, 6))\n",
    "    ax.set_ylabel('Number of papers')\n",
    "    ax.set_xlabel('Year')\n",
    "    sns.despine()\n",
    "    plt.savefig('Plots/malaria_%s.png' % out_file)"
   ]
  },
  {
   "cell_type": "code",
   "execution_count": 91,
   "metadata": {},
   "outputs": [
    {
     "data": {
      "image/png": "[encoded data removed]",
      "text/plain": [
       "<Figure size 576x432 with 1 Axes>"
      ]
     },
     "metadata": {},
     "output_type": "display_data"
    }
   ],
   "source": [
    "for machine in ml:\n",
    "    plot_counts(machine)"
   ]
  },
  {
   "cell_type": "code",
   "execution_count": 92,
   "metadata": {},
   "outputs": [
    {
     "data": {
      "image/png": "[encoded data removed]",
      "text/plain": [
       "<Figure size 576x432 with 1 Axes>"
      ]
     },
     "metadata": {},
     "output_type": "display_data"
    }
   ],
   "source": [
    "machine = \"linear regression\"\n",
    "plot_counts(machine)"
   ]
  },
  {
   "cell_type": "markdown",
   "metadata": {},
   "source": [
    "### Support vector machines"
   ]
  },
  {
   "cell_type": "code",
   "execution_count": 93,
   "metadata": {},
   "outputs": [
    {
     "data": {
      "image/png": "[encoded data removed]",
      "text/plain": [
       "<Figure size 576x432 with 1 Axes>"
      ]
     },
     "metadata": {},
     "output_type": "display_data"
    }
   ],
   "source": [
    "machine = \"support vector machine\"\n",
    "plot_counts(machine)"
   ]
  },
  {
   "cell_type": "markdown",
   "metadata": {},
   "source": [
    "### Neural networks"
   ]
  },
  {
   "cell_type": "code",
   "execution_count": 94,
   "metadata": {},
   "outputs": [
    {
     "data": {
      "image/png": "[encoded data removed]",
      "text/plain": [
       "<Figure size 576x432 with 1 Axes>"
      ]
     },
     "metadata": {},
     "output_type": "display_data"
    }
   ],
   "source": [
    "machine = \"neural networks\"\n",
    "plot_counts(machine)"
   ]
  },
  {
   "cell_type": "markdown",
   "metadata": {},
   "source": [
    "The above quick analysis seems to show that the algorithms popularity may have peeked in 2015, but have been on the decline ever since. We need to investigat this further. "
   ]
  },
  {
   "cell_type": "code",
   "execution_count": 95,
   "metadata": {},
   "outputs": [
    {
     "data": {
      "image/png": "[encoded data removed]",
      "text/plain": [
       "<Figure size 576x432 with 1 Axes>"
      ]
     },
     "metadata": {},
     "output_type": "display_data"
    }
   ],
   "source": [
    "machine = \"data science\"\n",
    "plot_counts(machine)"
   ]
  },
  {
   "cell_type": "code",
   "execution_count": null,
   "metadata": {},
   "outputs": [],
   "source": []
  }
 ],
 "metadata": {
  "kernelspec": {
   "display_name": "Python 3",
   "language": "python",
   "name": "python3"
  },
  "language_info": {
   "codemirror_mode": {
    "name": "ipython",
    "version": 3
   },
   "file_extension": ".py",
   "mimetype": "text/x-python",
   "name": "python",
   "nbconvert_exporter": "python",
   "pygments_lexer": "ipython3",
   "version": "3.9.2"
  }
 },
 "nbformat": 4,
 "nbformat_minor": 4
}
